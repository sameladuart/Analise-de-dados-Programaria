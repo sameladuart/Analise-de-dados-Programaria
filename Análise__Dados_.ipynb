{
  "nbformat": 4,
  "nbformat_minor": 0,
  "metadata": {
    "colab": {
      "provenance": [],
      "toc_visible": true,
      "authorship_tag": "ABX9TyNAwPHXJxtvETYGOFjFDZyj",
      "include_colab_link": true
    },
    "kernelspec": {
      "name": "python3",
      "display_name": "Python 3"
    },
    "language_info": {
      "name": "python"
    }
  },
  "cells": [
    {
      "cell_type": "markdown",
      "metadata": {
        "id": "view-in-github",
        "colab_type": "text"
      },
      "source": [
        "<a href=\"https://colab.research.google.com/github/sameladuart/Analise-de-dados-Programaria/blob/main/An%C3%A1lise__Dados_.ipynb\" target=\"_parent\"><img src=\"https://colab.research.google.com/assets/colab-badge.svg\" alt=\"Open In Colab\"/></a>"
      ]
    },
    {
      "cell_type": "markdown",
      "source": [
        "# Introduction"
      ],
      "metadata": {
        "id": "7-aT2qMk6gxM"
      }
    },
    {
      "cell_type": "markdown",
      "source": [
        "# Imports"
      ],
      "metadata": {
        "id": "Bd8W7rSP8OUO"
      }
    },
    {
      "cell_type": "code",
      "source": [
        "# Importing necessary libraries\n",
        "from google.colab import drive\n",
        "import pandas as pd\n",
        "import numpy as np\n",
        "import matplotlib.pyplot as plt\n",
        "from scipy import stats\n",
        "from scipy.stats import chi2_contingency"
      ],
      "metadata": {
        "id": "G4xZmTDT8SpH"
      },
      "execution_count": null,
      "outputs": []
    },
    {
      "cell_type": "markdown",
      "source": [
        "# Pandas library"
      ],
      "metadata": {
        "id": "g5wawVrJ9cy3"
      }
    },
    {
      "cell_type": "code",
      "source": [
        "\n",
        "# Mounting the Google Drive to access files\n",
        "drive.mount('/content/drive')"
      ],
      "metadata": {
        "id": "993Dn0QE7Cw2"
      },
      "execution_count": null,
      "outputs": []
    },
    {
      "cell_type": "code",
      "source": [
        "# Reading the data from an Excel file\n",
        "dados = pd.read_excel('/content/drive/MyDrive/programaria/planilha_modulo3.xlsx')"
      ],
      "metadata": {
        "id": "SMYX35-d-pTw"
      },
      "execution_count": null,
      "outputs": []
    },
    {
      "cell_type": "code",
      "source": [
        "# Displaying the first 10 rows of the dataset. n = int, 5 by default\n",
        "dados.head(10)"
      ],
      "metadata": {
        "id": "4H0fI5D4_4NO",
        "collapsed": true
      },
      "execution_count": null,
      "outputs": []
    },
    {
      "cell_type": "code",
      "source": [
        "# Displaying the last 5 rows of the dataset (default)\n",
        "dados.tail()"
      ],
      "metadata": {
        "id": "e5SpOtPv_91A"
      },
      "execution_count": null,
      "outputs": []
    },
    {
      "cell_type": "code",
      "source": [
        "# Finding the dimensions of the dataset (rows, columns)\n",
        "dados.shape"
      ],
      "metadata": {
        "id": "_hCUwNcnFk0N"
      },
      "execution_count": null,
      "outputs": []
    },
    {
      "cell_type": "code",
      "source": [
        "# Finding the total number of rows in the dataset\n",
        "len(dados)"
      ],
      "metadata": {
        "id": "EbH-GQLSFtos"
      },
      "execution_count": null,
      "outputs": []
    },
    {
      "cell_type": "code",
      "source": [
        "# Displaying all column names in the dataset\n",
        "dados.columns"
      ],
      "metadata": {
        "id": "2VDhY8fMFwW7"
      },
      "execution_count": null,
      "outputs": []
    },
    {
      "cell_type": "code",
      "source": [
        "# Displaying information about the dataset (data types, non-null values, memory usage)\n",
        "dados.info()"
      ],
      "metadata": {
        "id": "HE0R-FjBFyzo"
      },
      "execution_count": null,
      "outputs": []
    },
    {
      "cell_type": "code",
      "source": [
        "# Generating descriptive statistics for numerical columns\n",
        "dados.describe()"
      ],
      "metadata": {
        "id": "fGab1Cj6GZpp"
      },
      "execution_count": null,
      "outputs": []
    },
    {
      "cell_type": "markdown",
      "source": [
        "\n",
        "# Repeating excel analysis\n"
      ],
      "metadata": {
        "id": "cvh7-bVpJk7G"
      }
    },
    {
      "cell_type": "markdown",
      "source": [
        "#### Selecting and analyzing specific columns"
      ],
      "metadata": {
        "id": "tZXGAuukTCv-"
      }
    },
    {
      "cell_type": "code",
      "source": [
        "# Selecting the 'GENERO' column\n",
        "dados ['GENERO']"
      ],
      "metadata": {
        "id": "DaHIvdTgKFBy"
      },
      "execution_count": null,
      "outputs": []
    },
    {
      "cell_type": "code",
      "source": [
        "# Filtering rows where 'GENERO' is 'Feminino'\n",
        "dados[dados['GENERO']== 'Feminino']"
      ],
      "metadata": {
        "id": "AOZvjKhXJtUS",
        "collapsed": true
      },
      "execution_count": null,
      "outputs": []
    },
    {
      "cell_type": "code",
      "source": [
        "# Filtering rows where 'GENERO' is not 'Masculino'\n",
        "dados[dados['GENERO']!='Masculino']"
      ],
      "metadata": {
        "id": "M1T3Rwj5KR7M",
        "collapsed": true
      },
      "execution_count": null,
      "outputs": []
    },
    {
      "cell_type": "code",
      "source": [
        "# Filtering rows where 'GENERO' contains the substring 'não' (ignoring NaN values)\n",
        "#IF THE PATTERN IS CONTAINED IN A CHARACTER SEQUENCE OF A SERIAL OR INDEX\n",
        "#The goal of pd.NA is to provide a “missing” indicator that can be used consistently across data types\n",
        "dados[dados['GENERO'].str.contains('não', na=False)]"
      ],
      "metadata": {
        "id": "hZDJVwJKKgNa"
      },
      "execution_count": null,
      "outputs": []
    },
    {
      "cell_type": "code",
      "source": [
        "# Filtering rows where 'IDADE' is greater than 30\n",
        "dados[dados['IDADE']>30]"
      ],
      "metadata": {
        "id": "62g-LQC-K7T4"
      },
      "execution_count": null,
      "outputs": []
    },
    {
      "cell_type": "code",
      "source": [
        "# Filtering rows where 'IDADE' is greater than 30 and 'GENERO' is 'Feminino'\n",
        "dados[(dados['IDADE']>30) & (dados['GENERO']=='Feminino')]"
      ],
      "metadata": {
        "id": "04IPzWvULRPw"
      },
      "execution_count": null,
      "outputs": []
    },
    {
      "cell_type": "code",
      "source": [
        "# Filtering rows where 'COR/RACA/ETNIA' is 'Amarela' and 'IDADE' is less than 40\n",
        "dados[(dados['COR/RACA/ETNIA']=='Amarela') & (dados['IDADE']<40)]"
      ],
      "metadata": {
        "id": "A2ubdDYYNmiw"
      },
      "execution_count": null,
      "outputs": []
    },
    {
      "cell_type": "markdown",
      "source": [
        "###Grouping and aggregating data"
      ],
      "metadata": {
        "id": "iAg14D09S6nE"
      }
    },
    {
      "cell_type": "code",
      "source": [
        "# Counting unique IDs for each gender\n",
        "# groupby envolves some combination of dividing the object, applying a function, and combining the results.\n",
        "dados.groupby('GENERO')['ID'].nunique()"
      ],
      "metadata": {
        "id": "6wgM0XrNPxCj"
      },
      "execution_count": null,
      "outputs": []
    },
    {
      "cell_type": "code",
      "source": [
        "# Including null values in the grouping\n",
        "# Counting unique IDs for each gender, including missing values\n",
        "dados.groupby('GENERO',dropna=False)['ID'].nunique()"
      ],
      "metadata": {
        "id": "zXoB-MlKQCzL"
      },
      "execution_count": null,
      "outputs": []
    },
    {
      "cell_type": "code",
      "source": [
        "# Counting occurrences of each unique value in 'GENERO'\n",
        "dados['GENERO'].value_counts(dropna=False)"
      ],
      "metadata": {
        "id": "jXG_VAsKSrdf"
      },
      "execution_count": null,
      "outputs": []
    },
    {
      "cell_type": "code",
      "source": [
        "# Counting levels for people over 30 years old\n",
        "dados[dados['IDADE']>30]['NIVEL'].value_counts()"
      ],
      "metadata": {
        "id": "rV-KQxS-TH51"
      },
      "execution_count": null,
      "outputs": []
    },
    {
      "cell_type": "code",
      "source": [
        "# Counting levels for women over 30 years old\n",
        "dados[(dados['IDADE']>30) & (dados['GENERO']=='Feminino')]['NIVEL'].value_counts()"
      ],
      "metadata": {
        "id": "nD0zYdpyTXjU"
      },
      "execution_count": null,
      "outputs": []
    },
    {
      "cell_type": "code",
      "source": [
        "# Creating a pivot table to analyze gender and manager status\n",
        "pd.pivot_table(dados,values=['ID'], index=['GENERO'],columns=['GESTOR?'], aggfunc='count')"
      ],
      "metadata": {
        "id": "ww4Cd13BTwp1"
      },
      "execution_count": null,
      "outputs": []
    },
    {
      "cell_type": "markdown",
      "source": [
        "\n",
        "# Basic Statistics"
      ],
      "metadata": {
        "id": "nPl4chsH7fFJ"
      }
    },
    {
      "cell_type": "code",
      "source": [
        "# Defining a list of ages\n",
        "lista_idades = [26,30,32,22,26,35,40,20,43,31,23]"
      ],
      "metadata": {
        "id": "Vidz5n0o8F73"
      },
      "execution_count": null,
      "outputs": []
    },
    {
      "cell_type": "code",
      "source": [
        "# Summing all ages in the list\n",
        "np.sum(lista_idades)"
      ],
      "metadata": {
        "id": "pQOQ4WfZ8cO4"
      },
      "execution_count": null,
      "outputs": []
    },
    {
      "cell_type": "code",
      "source": [
        "# Counting the number of elements in the list\n",
        "len(lista_idades)"
      ],
      "metadata": {
        "id": "6jU-NORa8pwn"
      },
      "execution_count": null,
      "outputs": []
    },
    {
      "cell_type": "code",
      "source": [
        "# Adding and dividing the sum by the number of elements to find the average\n",
        "np.sum(lista_idades)/len(lista_idades)"
      ],
      "metadata": {
        "id": "zEivm15v8ty_"
      },
      "execution_count": null,
      "outputs": []
    },
    {
      "cell_type": "code",
      "source": [
        "# Calculating the arithmetic mean of the list\n",
        "media = np.mean(lista_idades)\n",
        "print(\"Média Aritmética:\", media)"
      ],
      "metadata": {
        "id": "SWe4LFP385-y"
      },
      "execution_count": null,
      "outputs": []
    },
    {
      "cell_type": "code",
      "source": [
        "# Find the weighted mean\n",
        " media_ponderada = (df[Preco] * df['Pesos']).sum() / df['Pesos'].sum()"
      ],
      "metadata": {
        "id": "PodoApneErez"
      },
      "execution_count": null,
      "outputs": []
    },
    {
      "cell_type": "code",
      "source": [
        "# Putting the list in ascending order\n",
        "lista_idades.sort()\n",
        "lista_idades"
      ],
      "metadata": {
        "id": "EsxumdWm_nF6"
      },
      "execution_count": null,
      "outputs": []
    },
    {
      "cell_type": "code",
      "source": [
        "# Adding 100 to the list\n",
        "lista_idades = [26,30,32,22,26,35,40,20,43,31,23,100]"
      ],
      "metadata": {
        "id": "stPqbMrL_11u"
      },
      "execution_count": null,
      "outputs": []
    },
    {
      "cell_type": "code",
      "source": [
        "# Putting the list in ascending order\n",
        "lista_idades.sort()\n",
        "lista_idades"
      ],
      "metadata": {
        "id": "YkMYsrpWAJ2M"
      },
      "execution_count": null,
      "outputs": []
    },
    {
      "cell_type": "code",
      "source": [
        "# Recalculating the median of the updated list\n",
        "\n",
        "mediana = np.median(lista_idades)\n",
        "print(\"Mediana:\", mediana)"
      ],
      "metadata": {
        "id": "hxe-IPKpAi0C"
      },
      "execution_count": null,
      "outputs": []
    },
    {
      "cell_type": "markdown",
      "source": [
        "### Returning to schedule"
      ],
      "metadata": {
        "id": "7H8qFyWXAsWG"
      }
    },
    {
      "cell_type": "code",
      "source": [
        "# Calculating the arithmetic mean of the list\n",
        "\n",
        "dados['IDADE'].mean()"
      ],
      "metadata": {
        "id": "68Gf58MSAvcl"
      },
      "execution_count": null,
      "outputs": []
    },
    {
      "cell_type": "code",
      "source": [
        "# Calculating the median of 'IDADE'\n",
        "dados['IDADE'].median()"
      ],
      "metadata": {
        "id": "xL0cdvLiCRjj"
      },
      "execution_count": null,
      "outputs": []
    },
    {
      "cell_type": "code",
      "source": [
        "# Calculating the mode of 'IDADE'\n",
        "dados['IDADE'].mode()"
      ],
      "metadata": {
        "id": "MtIpXn13CZon"
      },
      "execution_count": null,
      "outputs": []
    },
    {
      "cell_type": "code",
      "source": [
        "# Calculating the standard deviation of 'IDADE'\n",
        "dados['IDADE'].std()"
      ],
      "metadata": {
        "id": "9LlAE8q3C7dv"
      },
      "execution_count": null,
      "outputs": []
    },
    {
      "cell_type": "code",
      "source": [
        "# Calculating the standard deviation of 'IDADE'\n",
        "dados['IDADE'].min()\n",
        "dados['IDADE'].max()"
      ],
      "metadata": {
        "id": "gNGIgpLhDN2T"
      },
      "execution_count": null,
      "outputs": []
    },
    {
      "cell_type": "code",
      "source": [
        "# Mean age for females\n",
        "dados[dados['GENERO']=='Feminino'] ['IDADE'].mean()"
      ],
      "metadata": {
        "id": "KdMpz4uHDXy7"
      },
      "execution_count": null,
      "outputs": []
    },
    {
      "cell_type": "code",
      "source": [
        "# Mean age for males\n",
        "dados[dados['GENERO']=='Masculino'] ['IDADE'].mean()"
      ],
      "metadata": {
        "id": "-pgzGrv7D0z6"
      },
      "execution_count": null,
      "outputs": []
    },
    {
      "cell_type": "code",
      "source": [
        "# Mean salary for females\n",
        "dados[dados['GENERO']=='Feminino'] ['SALARIO'].mean()"
      ],
      "metadata": {
        "id": "RtFkG1WOEVyH"
      },
      "execution_count": null,
      "outputs": []
    },
    {
      "cell_type": "code",
      "source": [
        "# Mean salary for males\n",
        "dados[dados['GENERO']=='Masculino'] ['SALARIO'].mean()"
      ],
      "metadata": {
        "id": "VpC-IbQiEbPn"
      },
      "execution_count": null,
      "outputs": []
    },
    {
      "cell_type": "markdown",
      "source": [
        "\n",
        "#Missing Values\n"
      ],
      "metadata": {
        "id": "pioRuZJnFheP"
      }
    },
    {
      "cell_type": "code",
      "source": [
        "#info dataframe\n",
        "dados.info()"
      ],
      "metadata": {
        "id": "Rh2ZtoeqFmBT"
      },
      "execution_count": null,
      "outputs": []
    },
    {
      "cell_type": "markdown",
      "source": [
        "###Working on gender column\n"
      ],
      "metadata": {
        "id": "Isz8iGAQGPYr"
      }
    },
    {
      "cell_type": "code",
      "source": [
        "# Dropna false to show null values\n",
        "dados.groupby('GENERO', dropna=False) ['ID'].nunique()"
      ],
      "metadata": {
        "id": "sX2EpmKdFm2Y"
      },
      "execution_count": null,
      "outputs": []
    },
    {
      "cell_type": "code",
      "source": [
        "# Filling missing values in the 'GENERO' column\n",
        "dados['GENERO']= dados['GENERO'].fillna('Prefiro não informar')"
      ],
      "metadata": {
        "id": "eBncy4gOGSpO"
      },
      "execution_count": null,
      "outputs": []
    },
    {
      "cell_type": "code",
      "source": [
        "# Group the DataFrame by the 'GENERO' column.\n",
        "# The parameter `dropna=False` ensures that NaN values in the 'GENERO' column are not ignored and are included as a separate group.\n",
        "# Select the 'ID' column for further operations.\n",
        "# Use the `nunique()` method to count the number of unique values in the 'ID' column for each group in 'GENERO'.\n",
        "dados.groupby('GENERO', dropna=False) ['ID'].nunique()"
      ],
      "metadata": {
        "id": "RCVJJ6SuHFfy"
      },
      "execution_count": null,
      "outputs": []
    },
    {
      "cell_type": "markdown",
      "source": [
        "### Working age column"
      ],
      "metadata": {
        "id": "ztDCuRySeGVP"
      }
    },
    {
      "cell_type": "code",
      "source": [
        "# Analyzing missing values in 'IDADE'\n",
        "dados['IDADE'].isnull().value_counts()"
      ],
      "metadata": {
        "id": "hnZhLCFwH3ds"
      },
      "execution_count": null,
      "outputs": []
    },
    {
      "cell_type": "code",
      "source": [
        "# Return the name of all the columns\n",
        "dados.columns"
      ],
      "metadata": {
        "id": "HACK0Q5UIRQ8"
      },
      "execution_count": null,
      "outputs": []
    },
    {
      "cell_type": "code",
      "source": [
        "# Filter if people who did not enter age, entered age range\n",
        "dados[dados['IDADE'].isnull()] ['FAIXA IDADE'].value_counts()"
      ],
      "metadata": {
        "id": "CC6pxBRWIUYD"
      },
      "execution_count": null,
      "outputs": []
    },
    {
      "cell_type": "code",
      "source": [
        "# Average only ages 17-21\n",
        "media_17_21= dados[dados['FAIXA IDADE']== '17-21'] ['IDADE'].mean()"
      ],
      "metadata": {
        "id": "RK8vC52lIwqb"
      },
      "execution_count": null,
      "outputs": []
    },
    {
      "cell_type": "code",
      "source": [
        "# Loc locates what we are asking for\n",
        "dados.loc[(dados['FAIXA IDADE']== '17-21') & (dados['IDADE'].isnull()), 'IDADE'] = media_17_21"
      ],
      "metadata": {
        "id": "ptP1jGo1JDGf"
      },
      "execution_count": null,
      "outputs": []
    },
    {
      "cell_type": "code",
      "source": [
        "# Filter if people who did not enter age, entered age range\n",
        "dados[dados['IDADE'].isnull()] ['FAIXA IDADE'].value_counts()"
      ],
      "metadata": {
        "id": "5vslxie0KMJ_"
      },
      "execution_count": null,
      "outputs": []
    },
    {
      "cell_type": "code",
      "source": [
        "# Try to find out if those who put the 55+ range put age\n",
        "dados[dados['FAIXA IDADE']== '55+'] ['IDADE']"
      ],
      "metadata": {
        "id": "2x5lRxbiKXRU"
      },
      "execution_count": null,
      "outputs": []
    },
    {
      "cell_type": "code",
      "source": [
        "# Check the level of those who marked the age range 55+\n",
        "dados[dados['FAIXA IDADE']== '55+'] ['NIVEL']"
      ],
      "metadata": {
        "id": "xtpU_NvcKyTx"
      },
      "execution_count": null,
      "outputs": []
    },
    {
      "cell_type": "code",
      "source": [
        "# Calculate the average age\n",
        "media_geral = dados['IDADE'].mean()\n",
        "media_geral"
      ],
      "metadata": {
        "id": "Bk4_tnpvLEuT"
      },
      "execution_count": null,
      "outputs": []
    },
    {
      "cell_type": "code",
      "source": [
        "# Use the `loc` method to locate rows in the DataFrame where:\n",
        "# - The value in the 'FAIXA IDADE' column is equal to '55+'.\n",
        "# - The value in the 'IDADE' column is null (missing).\n",
        "# For these rows, assign the value of 'media_geral' (the calculated overall mean) to the 'IDADE' column.\n",
        "dados.loc[(dados['FAIXA IDADE']=='55+') & (dados['IDADE'].isnull()), 'IDADE'] = media_geral"
      ],
      "metadata": {
        "id": "R443SKgKLSym"
      },
      "execution_count": null,
      "outputs": []
    },
    {
      "cell_type": "code",
      "source": [
        "# Check if it worked, check for null values\n",
        "dados[dados['IDADE'].isnull()] ['FAIXA IDADE'].value_counts()"
      ],
      "metadata": {
        "id": "kiGL7kcYME9Z"
      },
      "execution_count": null,
      "outputs": []
    },
    {
      "cell_type": "markdown",
      "source": [
        "### Working salary column"
      ],
      "metadata": {
        "id": "KN-AdeODNGO0"
      }
    },
    {
      "cell_type": "code",
      "source": [
        "# Filter the DataFrame to include only rows where the 'SALARIO' column has null (missing) values.\n",
        "dados[dados['SALARIO'].isnull()]"
      ],
      "metadata": {
        "id": "HQiN06-iNI0l"
      },
      "execution_count": null,
      "outputs": []
    },
    {
      "cell_type": "code",
      "source": [
        "# Filter the DataFrame to include rows with null values in the 'SALARIO' column.\n",
        "# Then, select the 'FAIXA SALARIAL' column and count the occurrences of each unique value.\n",
        "dados[dados['SALARIO'].isnull()] ['FAIXA SALARIAL'].value_counts()"
      ],
      "metadata": {
        "id": "F7OpDZ4CNQLD"
      },
      "execution_count": null,
      "outputs": []
    },
    {
      "cell_type": "code",
      "source": [
        "# Calculate the median (middle value) of the 'SALARIO' column.\n",
        "# This value will be used to replace the missing values.\n",
        "mediana_salario = dados['SALARIO'].median()"
      ],
      "metadata": {
        "id": "NVIqry_MNgJR"
      },
      "execution_count": null,
      "outputs": []
    },
    {
      "cell_type": "code",
      "source": [
        "# Locate the rows where the 'SALARIO' column has null values.\n",
        "# Replace these null values with the median salary calculated above.\n",
        "dados.loc[dados['SALARIO'].isnull(),'SALARIO'] = mediana_salario"
      ],
      "metadata": {
        "id": "bY0lbBWaOHCq"
      },
      "execution_count": null,
      "outputs": []
    },
    {
      "cell_type": "markdown",
      "source": [
        "\n",
        "\n",
        "\n",
        "\n",
        "### Outliers\n"
      ],
      "metadata": {
        "id": "xUWxQ5i4VjLs"
      }
    },
    {
      "cell_type": "code",
      "source": [
        "# Define a list of ages with a clear outlier (400)\n",
        "lista_idades = [26,30,32,22,26,35,400,20,43,31,23]"
      ],
      "metadata": {
        "id": "_k2Tg_sqZjEK"
      },
      "execution_count": null,
      "outputs": []
    },
    {
      "cell_type": "code",
      "source": [
        "# Calculate the mean of the age list.\n",
        "media = np.mean(lista_idades)\n",
        "media"
      ],
      "metadata": {
        "id": "KvcWHJ9RZb_t"
      },
      "execution_count": null,
      "outputs": []
    },
    {
      "cell_type": "code",
      "source": [
        "# Calculate the standard deviation of the age list.\n",
        "desvio = np.std(lista_idades)\n",
        "desvio"
      ],
      "metadata": {
        "id": "e_DSIs_OZ5eE"
      },
      "execution_count": null,
      "outputs": []
    },
    {
      "cell_type": "code",
      "source": [
        "# Calculate the upper limit for outliers (mean + 3 times the standard deviation).\n",
        "media + 3*desvio"
      ],
      "metadata": {
        "id": "HNroOEH3asm0"
      },
      "execution_count": null,
      "outputs": []
    },
    {
      "cell_type": "code",
      "source": [
        "# Calculate the lower limit for outliers (mean - 3 times the standard deviation).\n",
        "media - 3*desvio"
      ],
      "metadata": {
        "id": "Wg4fbBvYa0As"
      },
      "execution_count": null,
      "outputs": []
    },
    {
      "cell_type": "code",
      "source": [
        "# Display a boxplot for the age list.\n",
        "# The orange line is the median, box edges represent Q1 and Q3, and whiskers mark lower/upper bounds.\n",
        "plt.boxplot(lista_idades)"
      ],
      "metadata": {
        "id": "P-jQXVzNbGV5"
      },
      "execution_count": null,
      "outputs": []
    },
    {
      "cell_type": "code",
      "source": [
        "# Display a boxplot for the 'SALARIO' column.\n",
        "plt.boxplot(dados['SALARIO'])"
      ],
      "metadata": {
        "id": "hifJwnW8bT5Q"
      },
      "execution_count": null,
      "outputs": []
    },
    {
      "cell_type": "code",
      "source": [
        "# Calculate the first quartile (Q1), representing 25% of the data.\n",
        "Q1 = dados['SALARIO'].quantile(0.25)\n",
        "Q1"
      ],
      "metadata": {
        "id": "RV-yVfPebfSK"
      },
      "execution_count": null,
      "outputs": []
    },
    {
      "cell_type": "code",
      "source": [
        "# Calculate the third quartile (Q3), representing 75% of the data.\n",
        "Q3 = dados['SALARIO'].quantile(0.75)\n",
        "Q3"
      ],
      "metadata": {
        "id": "SXDmQRNPbsWE"
      },
      "execution_count": null,
      "outputs": []
    },
    {
      "cell_type": "code",
      "source": [
        "# Compute the Interquartile Range (IQR) as Q3 - Q1.\n",
        "IQR = Q3 - Q1\n",
        "IQR"
      ],
      "metadata": {
        "id": "WaROd36obyQO"
      },
      "execution_count": null,
      "outputs": []
    },
    {
      "cell_type": "code",
      "source": [
        "# Calculate the upper limit for detecting outliers using 1.5 * IQR.\n",
        "lim_superior = Q3 + (1.5*IQR)\n",
        "lim_superior"
      ],
      "metadata": {
        "id": "tWjNf352b4qW",
        "collapsed": true
      },
      "execution_count": null,
      "outputs": []
    },
    {
      "cell_type": "code",
      "source": [
        "# Calculate the lower limit for detecting outliers using 1.5 * IQR.\n",
        "\n",
        "lim_inferior = Q1 - (1.5*IQR)\n",
        "lim_inferior"
      ],
      "metadata": {
        "id": "3HKWrgvHcBwY"
      },
      "execution_count": null,
      "outputs": []
    },
    {
      "cell_type": "code",
      "source": [
        "# Calculate the mean salary.\n",
        "media_salario = dados['SALARIO'].mean()\n",
        "media_salario"
      ],
      "metadata": {
        "id": "1ac9DoQdeOJT"
      },
      "execution_count": null,
      "outputs": []
    },
    {
      "cell_type": "code",
      "source": [
        "# Calculate the standard deviation of salaries.\n",
        "desvio_salario = dados['SALARIO'].std()\n",
        "desvio_salario"
      ],
      "metadata": {
        "id": "R4Dsh3MFedHH"
      },
      "execution_count": null,
      "outputs": []
    },
    {
      "cell_type": "code",
      "source": [
        "# Define a specific upper limit for salaries based on 3 standard deviations.\n",
        "limite_superior = media_salario + (3*desvio_salario)\n",
        "limite_superior"
      ],
      "metadata": {
        "id": "ky3kuI8HenH3"
      },
      "execution_count": null,
      "outputs": []
    },
    {
      "cell_type": "code",
      "source": [
        "# Count the salary ranges for salaries above the upper limit.\n",
        "dados[dados['SALARIO']>limite_superior] ['FAIXA SALARIAL'].value_counts()"
      ],
      "metadata": {
        "id": "WCVHfcoIfA_j"
      },
      "execution_count": null,
      "outputs": []
    },
    {
      "cell_type": "code",
      "source": [
        "# Calculate the mean salary for a specific salary range, excluding outliers.\n",
        "media_30_40 = dados[(dados['FAIXA SALARIAL'] == 'de R$ 30.001/mês a R$ 40.000/mês') & (dados['SALARIO']<limite_superior)]['SALARIO'].mean()"
      ],
      "metadata": {
        "id": "EfMX1teTfZZl"
      },
      "execution_count": null,
      "outputs": []
    },
    {
      "cell_type": "code",
      "source": [
        "# Replace outlier salaries in the specified range with the calculated mean.\n",
        "dados.loc[(dados['FAIXA SALARIAL'] == 'de R$ 30.001/mês a R$ 40.000/mês') & (dados['SALARIO']>limite_superior), 'SALARIO'] = media_30_40"
      ],
      "metadata": {
        "id": "UN3Rxa4FhBbc"
      },
      "execution_count": null,
      "outputs": []
    },
    {
      "cell_type": "code",
      "source": [
        "# Count salary ranges for outliers after handling.\n",
        "dados[dados['SALARIO']>limite_superior] ['FAIXA SALARIAL'].value_counts()"
      ],
      "metadata": {
        "id": "fg4q2X5Khm3L"
      },
      "execution_count": null,
      "outputs": []
    },
    {
      "cell_type": "code",
      "source": [
        "# Repeat the above steps for another salary range.\n",
        "media_acima_40 = dados[(dados['FAIXA SALARIAL'] == 'Acima de R$ 40.001/mês') & (dados['SALARIO']<limite_superior)]['SALARIO'].mean()"
      ],
      "metadata": {
        "id": "DCbyLmFkhtI3"
      },
      "execution_count": null,
      "outputs": []
    },
    {
      "cell_type": "code",
      "source": [
        "# Locate all people in the 30 to 40k salary range whose salary is above the limit, and assign them the average\n",
        "dados.loc[(dados['FAIXA SALARIAL'] == 'Acima de R$ 40.001/mês') & (dados['SALARIO']>limite_superior), 'SALARIO'] = media_acima_40"
      ],
      "metadata": {
        "id": "5kvZtNZ0h1mk"
      },
      "execution_count": null,
      "outputs": []
    },
    {
      "cell_type": "code",
      "source": [
        "# Count salary ranges for outliers after handling.\n",
        "dados[dados['SALARIO']>limite_superior] ['FAIXA SALARIAL'].value_counts()"
      ],
      "metadata": {
        "id": "selFQr1AiE8C"
      },
      "execution_count": null,
      "outputs": []
    },
    {
      "cell_type": "code",
      "source": [
        "# Display a boxplot after handling outliers.\n",
        "plt.boxplot(dados['SALARIO'])"
      ],
      "metadata": {
        "id": "k1vqV5DJiKpI"
      },
      "execution_count": null,
      "outputs": []
    },
    {
      "cell_type": "markdown",
      "source": [
        "# Sampling distribution and confidence interval"
      ],
      "metadata": {
        "id": "viQd7MxvMMI8"
      }
    },
    {
      "cell_type": "code",
      "source": [
        "# Store the 'SALARIO' column in a variable.\n",
        "salarios = dados['SALARIO']\n",
        "salarios"
      ],
      "metadata": {
        "id": "SXJJnzFuMLyk"
      },
      "execution_count": null,
      "outputs": []
    },
    {
      "cell_type": "code",
      "source": [
        "# Calculate the mean of the salary sample.\n",
        "media_amostral = np.mean(salarios)\n",
        "media_amostral"
      ],
      "metadata": {
        "id": "w9Zyd1w0MUDH"
      },
      "execution_count": null,
      "outputs": []
    },
    {
      "cell_type": "code",
      "source": [
        "# Calculate the sample standard deviation of salaries.\n",
        "desvio_amostral = np.std(salarios)\n",
        "desvio_amostral"
      ],
      "metadata": {
        "id": "yNVFD8hOMgMm"
      },
      "execution_count": null,
      "outputs": []
    },
    {
      "cell_type": "code",
      "source": [
        "# Define the confidence level (95%).\n",
        "nivel_confianca = 0.95"
      ],
      "metadata": {
        "id": "JxMLLb2tMkre"
      },
      "execution_count": null,
      "outputs": []
    },
    {
      "cell_type": "code",
      "source": [
        "# Determine the sample size.\n",
        "tamanho_amostra = len(salarios)\n",
        "tamanho_amostra"
      ],
      "metadata": {
        "id": "RNmuYTklMvpe"
      },
      "execution_count": null,
      "outputs": []
    },
    {
      "cell_type": "code",
      "source": [
        "# Calculate the standard error of the mean.\n",
        "erro_padrao = stats.sem(salarios)\n",
        "erro_padrao"
      ],
      "metadata": {
        "id": "_gzFXtaGbJL1"
      },
      "execution_count": null,
      "outputs": []
    },
    {
      "cell_type": "code",
      "source": [
        "# Compute the confidence interval for the mean.\n",
        "intervalo_confianca = stats.t.interval(nivel_confianca, tamanho_amostra-1, loc=media_amostral, scale=erro_padrao)\n",
        "intervalo_confianca"
      ],
      "metadata": {
        "id": "4pTSsTRVcYc6"
      },
      "execution_count": null,
      "outputs": []
    },
    {
      "cell_type": "markdown",
      "source": [
        "#Future Engineering\n",
        "processo de selecionar, criando e transformando características de dados brutos para torna-los mais úteis para algoritmos de machine learning"
      ],
      "metadata": {
        "id": "i8KtuKeXe22Z"
      }
    },
    {
      "cell_type": "code",
      "source": [
        "# Function to assign \"Pessoa Gestora\" based on a binary 'GESTOR?' column.\n",
        "def preencher_nivel(gestor,nivel):\n",
        "  if gestor == 1:\n",
        "    return \"Pessoa Gestora\"\n",
        "  else:\n",
        "    return nivel"
      ],
      "metadata": {
        "id": "kLl7OO4re2oz"
      },
      "execution_count": null,
      "outputs": []
    },
    {
      "cell_type": "code",
      "source": [
        "# Apply the function to create a new column 'NOVO_NIVEL'.\n",
        "dados['NOVO_NIVEL'] = dados.apply(lambda x: preencher_nivel(x['GESTOR?'], x['NIVEL']), axis=1)"
      ],
      "metadata": {
        "id": "GNIgAwKtf4Td"
      },
      "execution_count": null,
      "outputs": []
    },
    {
      "cell_type": "code",
      "source": [
        "# Count the occurrences in the new 'NOVO_NIVEL' column.\n",
        "dados ['NOVO_NIVEL'].value_counts()"
      ],
      "metadata": {
        "id": "9cRC2c4dhtp8"
      },
      "execution_count": null,
      "outputs": []
    },
    {
      "cell_type": "code",
      "source": [
        "# Use get_dummies to create separate columns for each level in the 'NIVEL' column.\n",
        "dados = pd.get_dummies(dados, columns= ['NIVEL'])"
      ],
      "metadata": {
        "id": "XMH1pjwNh0iJ"
      },
      "execution_count": null,
      "outputs": []
    },
    {
      "cell_type": "code",
      "source": [
        "# Display row of the columns\n",
        "dados.columns"
      ],
      "metadata": {
        "id": "Pri7XmL3iob9"
      },
      "execution_count": null,
      "outputs": []
    },
    {
      "cell_type": "code",
      "source": [
        "# Function to determine the generation based on age.\n",
        "def determinar_geracao(idade):\n",
        "  if 39< idade <=58:\n",
        "    return \"Geração X\"\n",
        "  elif 29< idade <=39:\n",
        "    return \"Millenial\"\n",
        "  elif 13< idade <=29:\n",
        "    return \"Geração Z\"\n",
        "  else:\n",
        "    return \"Outra geração\"\n"
      ],
      "metadata": {
        "id": "7JbgZTGuiuEK"
      },
      "execution_count": 1,
      "outputs": []
    },
    {
      "cell_type": "code",
      "source": [
        "# Apply the function to create a 'GERACAO' column.\n",
        "dados['GERACAO'] = dados['IDADE'].apply(determinar_geracao)"
      ],
      "metadata": {
        "id": "L9jjcdG7jfhD"
      },
      "execution_count": null,
      "outputs": []
    },
    {
      "cell_type": "code",
      "source": [
        "# Count occurrences for each generation.\n",
        "dados['GERACAO'].value_counts()"
      ],
      "metadata": {
        "id": "DCn9FiFojtwY"
      },
      "execution_count": null,
      "outputs": []
    },
    {
      "cell_type": "code",
      "source": [
        "# Load additional data and merge it with the existing DataFrame.\n",
        "dados2 = pd.read_excel('/content/drive/MyDrive/programaria/Cópia de Planilha_Aula_parte2.xlsx')\n",
        "dados = dados.merge(dados2, on='ID', how='left')"
      ],
      "metadata": {
        "id": "jkTnEg1kkM-0"
      },
      "execution_count": null,
      "outputs": []
    },
    {
      "cell_type": "code",
      "source": [
        "# Display row of the columns\n",
        "dados.columns"
      ],
      "metadata": {
        "id": "ckrbzLtuhhMb"
      },
      "execution_count": null,
      "outputs": []
    },
    {
      "cell_type": "code",
      "source": [
        "# Analyze responses regarding job search intentions.\n",
        "dados['Você pretende mudar de emprego nos próximos 6 meses?'].value_counts()"
      ],
      "metadata": {
        "id": "0jTFMxA1lm1N"
      },
      "execution_count": null,
      "outputs": []
    },
    {
      "cell_type": "code",
      "source": [
        "# Create a column 'EM_BUSCA' based on whether the job change intent contains \"em busca\".\n",
        "dados['EM_BUSCA'] = dados['Você pretende mudar de emprego nos próximos 6 meses?'].str.contains('em busca', case=False)\n",
        "dados['EM_BUSCA'].value_counts()"
      ],
      "metadata": {
        "id": "Bzvokzw5m8i7"
      },
      "execution_count": null,
      "outputs": []
    },
    {
      "cell_type": "code",
      "source": [
        "# Similar column for \"aberto a oportunidades\".\n",
        "dados['ABERTO_OPORTUNIDADES'] = dados['Você pretende mudar de emprego nos próximos 6 meses?'].str.contains('aberto', case=False)\n",
        "dados['ABERTO_OPORTUNIDADES'].value_counts()"
      ],
      "metadata": {
        "id": "F2isBbwQnOwb"
      },
      "execution_count": null,
      "outputs": []
    },
    {
      "cell_type": "markdown",
      "source": [
        "# EXERCISE"
      ],
      "metadata": {
        "id": "wHQeZ7wco2nb"
      }
    },
    {
      "cell_type": "code",
      "source": [
        "# Display the frequency count of each unique value in the 'COR/RACA/ETNIA' column.\n",
        "# This provides an overview of the distribution of different ethnicity/race categories in the dataset.\n",
        "dados['COR/RACA/ETNIA'].value_counts()"
      ],
      "metadata": {
        "id": "RVaq8gCco1ek"
      },
      "execution_count": null,
      "outputs": []
    },
    {
      "cell_type": "code",
      "source": [
        "# Create a new column 'ETNIA_BRANCA' that indicates whether the 'COR/RACA/ETNIA' column contains the term 'branca' (white).\n",
        "# The `str.contains` function performs a case-insensitive search (due to `case=False`) for the term 'branca'.\n",
        "dados['ETNIA_BRANCA'] = dados['COR/RACA/ETNIA'].str.contains('branca', case=False)"
      ],
      "metadata": {
        "id": "O1L1DhSbpBDi"
      },
      "execution_count": null,
      "outputs": []
    },
    {
      "cell_type": "code",
      "source": [
        "# Display the frequency count of values in the 'ETNIA_BRANCA' column.\n",
        "# The counts will show how many rows have been identified as 'branca' (True) or not (False).\n",
        "dados['ETNIA_BRANCA'].value_counts()"
      ],
      "metadata": {
        "id": "STTBV9-1pKtq"
      },
      "execution_count": null,
      "outputs": []
    },
    {
      "cell_type": "code",
      "source": [
        "# Create a new column 'ETNIA_NAO_BRANCA' that identifies rows where 'COR/RACA/ETNIA' contains any of the terms\n",
        "# 'Parda', 'Preta', 'Amarela', or 'Indígena' (mixed race, black, Asian, or Indigenous).\n",
        "dados['ETNIA_NAO_BRANCA'] = dados['COR/RACA/ETNIA'].str.contains('Parda|Preta|Amarela|Indígena', case=False)"
      ],
      "metadata": {
        "id": "Hhxoh9yepPtG"
      },
      "execution_count": null,
      "outputs": []
    },
    {
      "cell_type": "code",
      "source": [
        "# Display the frequency count of values in the 'ETNIA_NAO_BRANCA' column.\n",
        "# The counts will show how many rows are classified as 'não branca' (non-white).\n",
        "dados['ETNIA_NAO_BRANCA'].value_counts()"
      ],
      "metadata": {
        "id": "aOGoqmXCrIz6"
      },
      "execution_count": null,
      "outputs": []
    },
    {
      "cell_type": "code",
      "source": [
        "# Create a new column 'OUTRAS' that identifies rows where 'COR/RACA/ETNIA' contains the terms 'Outra' (Other)\n",
        "# or 'Prefiro não informar' (Prefer not to disclose).\n",
        "dados['OUTRAS'] = dados['COR/RACA/ETNIA'].str.contains('Outra|Prefiro não informar', case=False)"
      ],
      "metadata": {
        "id": "7eY1qmZfsABh"
      },
      "execution_count": null,
      "outputs": []
    },
    {
      "cell_type": "code",
      "source": [
        "# Display the frequency count of values in the 'OUTRAS' column.\n",
        "# This shows the distribution of individuals who identified themselves as 'Outra' or chose not to disclose their ethnicity/race.\n",
        "dados['OUTRAS'].value_counts()"
      ],
      "metadata": {
        "id": "M207aKy0sJe_"
      },
      "execution_count": null,
      "outputs": []
    },
    {
      "cell_type": "markdown",
      "source": [
        "#Correlation Analysis"
      ],
      "metadata": {
        "id": "Yq_7OresuRyj"
      }
    },
    {
      "cell_type": "code",
      "source": [
        "# Calculate correlation between 'IDADE' and 'SALARIO'.\n",
        "correlacao_continua = dados['IDADE'].corr(dados['SALARIO'])\n",
        "correlacao_continua"
      ],
      "metadata": {
        "id": "QWBviXQ1tqPl"
      },
      "execution_count": null,
      "outputs": []
    },
    {
      "cell_type": "code",
      "source": [
        "# Function to calculate Cramér's V coefficient for categorical variables.\n",
        "def cramer_coeficiente(coluna1,coluna2):\n",
        "  tabela_cruzada = np.array(pd.crosstab(coluna1, coluna2))\n",
        "  chi2 = chi2_contingency(tabela_cruzada)[0] #retorna varios valores, so precisamos do 1, por isso o 0\n",
        "  soma = np.sum(tabela_cruzada) #soma de cada categoria da coluna niveis de ensino\n",
        "  mini = min(tabela_cruzada.shape) -1\n",
        "  cramer = np.sqrt(chi2/(soma*mini)) #sqrt é raiz quadrada\n",
        "  return cramer"
      ],
      "metadata": {
        "id": "0knBIDRQuqM-"
      },
      "execution_count": null,
      "outputs": []
    },
    {
      "cell_type": "code",
      "source": [
        "# Calculate and analyze correlations.\n",
        "cramer_coeficiente(dados['COR/RACA/ETNIA'], dados['NIVEL DE ENSINO'])"
      ],
      "metadata": {
        "id": "huoQDH0ZxOYx"
      },
      "execution_count": null,
      "outputs": []
    },
    {
      "cell_type": "code",
      "source": [
        "# Create a cross-tabulation table that shows the relationship between 'COR/RACA/ETNIA' (ethnicity/race)\n",
        "# and 'NIVEL DE ENSINO' (education level).\n",
        "# Each cell in the table represents the count of individuals for a specific combination of these two variables.\n",
        "tabela_cruzada = pd.crosstab(dados['COR/RACA/ETNIA'], dados['NIVEL DE ENSINO'])\n",
        "tabela_cruzada"
      ],
      "metadata": {
        "id": "1Agb0cIivgXL"
      },
      "execution_count": null,
      "outputs": []
    },
    {
      "cell_type": "code",
      "source": [
        "# Convert the cross-tabulation table into a NumPy array for further numerical analysis, if needed.\n",
        "np.array(tabela_cruzada)"
      ],
      "metadata": {
        "id": "QvhGraLtwAXo"
      },
      "execution_count": null,
      "outputs": []
    },
    {
      "cell_type": "code",
      "source": [
        "# Calculate Cramér's V coefficient to measure the strength of the association between\n",
        "# 'NIVEL DE ENSINO' (education level) and 'GENERO' (gender).\n",
        "# The function `cramer_coeficiente` computes the value based on the cross-tabulated data.\n",
        "# The result helps evaluate if there's a significant relationship between these categorical variables.\n",
        "cramer_coeficiente(dados['NIVEL DE ENSINO'], dados['GENERO'])"
      ],
      "metadata": {
        "id": "kk6JVQIlz4pA"
      },
      "execution_count": null,
      "outputs": []
    },
    {
      "cell_type": "code",
      "source": [
        "# Export the DataFrame to a CSV file.\n",
        "dados.to_csv('/content/drive/MyDrive/programaria/analise_dados.csv', index= False) #index é os numeros do lado, indice, nesse caso nao precisa"
      ],
      "metadata": {
        "id": "w_wSU0Lg-IWB"
      },
      "execution_count": null,
      "outputs": []
    }
  ]
}